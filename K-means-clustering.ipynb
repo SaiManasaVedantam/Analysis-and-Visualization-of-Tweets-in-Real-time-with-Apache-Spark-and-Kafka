{
 "cells": [
  {
   "cell_type": "code",
   "execution_count": 1,
   "id": "66331820-3e07-4826-920d-a7029a1a58cc",
   "metadata": {},
   "outputs": [],
   "source": [
    "# Import necessary packages\n",
    "\n",
    "import time\n",
    "import requests\n",
    "import numpy as np                      \n",
    "import pandas as pd\n",
    "import elasticsearch"
   ]
  },
  {
   "cell_type": "code",
   "execution_count": 2,
   "id": "88e07d79-06ef-44ca-a1cf-9800950669e3",
   "metadata": {},
   "outputs": [],
   "source": [
    "# Import ML packages\n",
    "\n",
    "from sklearn.cluster import KMeans\n",
    "from matplotlib import pyplot as plt\n",
    "from sklearn.decomposition import PCA\n",
    "from sklearn.feature_extraction.text import TfidfVectorizer"
   ]
  },
  {
   "cell_type": "code",
   "execution_count": 3,
   "id": "9b3da76c-0c90-42b9-ad8b-0fbd3bbf74bd",
   "metadata": {},
   "outputs": [],
   "source": [
    "# Filter warnings\n",
    "\n",
    "import warnings\n",
    "warnings.filterwarnings(\"ignore\")"
   ]
  },
  {
   "cell_type": "code",
   "execution_count": 4,
   "id": "f30bf15d-a5a7-4a6f-873a-82a134c7290c",
   "metadata": {},
   "outputs": [],
   "source": [
    "# Define helper methods\n",
    "def modify_vectors(text_vectorizer,new_text):\n",
    "    vect_text = text_vectorizer.transform([new_text])\n",
    "    return list(vect_text.toarray()[0])\n",
    "        \n",
    "def predictor(text_vectorizer,km_model,new_text):\n",
    "    vect_text = text_vectorizer.transform([new_text])\n",
    "    cluster_pred = km_model.predict(vect_text)\n",
    "    return cluster_pred[0]\n"
   ]
  },
  {
   "cell_type": "code",
   "execution_count": 5,
   "id": "5fd0353c-39a1-496e-a06b-6b5cce0fd199",
   "metadata": {},
   "outputs": [],
   "source": [
    "# Set global variables\n",
    "\n",
    "elastic_search = elasticsearch.Elasticsearch([{'host': 'localhost', 'port': 9200, 'use_ssl' : False, 'ssl_verify' : False}])\n",
    "req = requests.get(\"http://localhost:9200\", verify=False)\n",
    "pca = PCA(n_components=2)\n",
    "\n",
    "unique_processed_tweets = set()\n",
    "data_list = []\n",
    "iterations = 1\n",
    "\n",
    "vectorizer = TfidfVectorizer(stop_words='english')\n",
    "global_df = pd.DataFrame(columns=['id', 'processed_tweet'])\n"
   ]
  },
  {
   "cell_type": "code",
   "execution_count": null,
   "id": "5c97a4d2-9bee-434a-a4b1-ae3474149181",
   "metadata": {
    "scrolled": false
   },
   "outputs": [],
   "source": [
    "while iterations <= 20:\n",
    "    \n",
    "    # Get data from the elastic search index\n",
    "    elastic_search_result = elastic_search.search(index=\"ukraine_index\", doc_type=\"_doc\", body={\n",
    "          'size' : 1000,\n",
    "          'query': {'match_all' : {}}\n",
    "    })\n",
    "    \n",
    "    # Check hits & get data\n",
    "    for record in elastic_search_result['hits']['hits']:\n",
    "        preprocessed_tweet = record['_source']['processed_tweet']\n",
    "        if preprocessed_tweet not in unique_processed_tweets:\n",
    "            record_dict = {'id':record['_id'], 'processed_tweet':preprocessed_tweet}\n",
    "            data_list.append(record_dict)\n",
    "            unique_processed_tweets.add(preprocessed_tweet)\n",
    "            \n",
    "    temp_df = pd.DataFrame(data_list)\n",
    "    global_df = global_df.append(temp_df, ignore_index=True)\n",
    "        \n",
    "    tweets_list = global_df.processed_tweet.tolist()\n",
    "    #print(tweets_list)\n",
    "        \n",
    "    X = vectorizer.fit_transform(tweets_list)\n",
    "    model = KMeans(n_clusters=3, init='k-means++', max_iter=5000) #, n_init=1)\n",
    "    model.fit(X)\n",
    "        \n",
    "    # Set data for the cluster & tweet_vector\n",
    "    global_df['tweet_vector'] = global_df.processed_tweet.apply(lambda x:modify_vectors(vectorizer,x))\n",
    "    global_df['cluster_number'] = global_df.processed_tweet.apply(lambda x:predictor(vectorizer,model,x))\n",
    "    global_df.value_counts('cluster_number')\n",
    "\n",
    "    x_pca = pca.fit_transform(list(global_df.tweet_vector))\n",
    "    two_d_data = pd.DataFrame(x_pca).rename(columns={0:'x',1:'y'})\n",
    "    full_data = global_df.join(two_d_data)\n",
    "            \n",
    "    # Obtain plots\n",
    "    labels = ['Cluster1', 'Cluster2', 'Cluster3']\n",
    "    plt.figure(figsize=(15, 10))\n",
    "    plt.xticks(np.arange(-0.5, 1, step=0.1))\n",
    "    plt.yticks(np.arange(-0.5, 1, step=0.1))\n",
    "    scatter=plt.scatter(full_data.x,full_data.y,c=global_df.cluster_number)\n",
    "    plt.legend(handles=scatter.legend_elements()[0], labels=labels)\n",
    "        \n",
    "    # Save plots for every 5 iterations\n",
    "    if iterations % 5 == 0:\n",
    "        print(\"Size of data collected after \", iterations, \" iterations: \", global_df.shape)\n",
    "        plt.savefig('./Result-after-iteration'+str(iterations)+'.png')   \n",
    "\n",
    "    iterations += 1\n",
    "    time.sleep(30)\n",
    "            "
   ]
  }
 ],
 "metadata": {
  "kernelspec": {
   "display_name": "Python 3",
   "language": "python",
   "name": "python3"
  },
  "language_info": {
   "codemirror_mode": {
    "name": "ipython",
    "version": 3
   },
   "file_extension": ".py",
   "mimetype": "text/x-python",
   "name": "python",
   "nbconvert_exporter": "python",
   "pygments_lexer": "ipython3",
   "version": "3.8.8"
  }
 },
 "nbformat": 4,
 "nbformat_minor": 5
}
